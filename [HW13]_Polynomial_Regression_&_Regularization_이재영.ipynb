{
  "nbformat": 4,
  "nbformat_minor": 0,
  "metadata": {
    "colab": {
      "provenance": [],
      "include_colab_link": true
    },
    "kernelspec": {
      "name": "python3",
      "display_name": "Python 3"
    },
    "language_info": {
      "name": "python"
    },
    "widgets": {
      "application/vnd.jupyter.widget-state+json": {
        "b3ea097574604c72906ea4414203c07b": {
          "model_module": "@jupyter-widgets/controls",
          "model_name": "VBoxModel",
          "model_module_version": "1.5.0",
          "state": {
            "_dom_classes": [
              "widget-interact"
            ],
            "_model_module": "@jupyter-widgets/controls",
            "_model_module_version": "1.5.0",
            "_model_name": "VBoxModel",
            "_view_count": null,
            "_view_module": "@jupyter-widgets/controls",
            "_view_module_version": "1.5.0",
            "_view_name": "VBoxView",
            "box_style": "",
            "children": [
              "IPY_MODEL_42e968513a334e4599d003c48b7a657a",
              "IPY_MODEL_1004de04b431414b87073fd2400e1263"
            ],
            "layout": "IPY_MODEL_5eea5801211847a5853691cc093b35f2"
          }
        },
        "42e968513a334e4599d003c48b7a657a": {
          "model_module": "@jupyter-widgets/controls",
          "model_name": "IntSliderModel",
          "model_module_version": "1.5.0",
          "state": {
            "_dom_classes": [],
            "_model_module": "@jupyter-widgets/controls",
            "_model_module_version": "1.5.0",
            "_model_name": "IntSliderModel",
            "_view_count": null,
            "_view_module": "@jupyter-widgets/controls",
            "_view_module_version": "1.5.0",
            "_view_name": "IntSliderView",
            "continuous_update": true,
            "description": "degree",
            "description_tooltip": null,
            "disabled": false,
            "layout": "IPY_MODEL_cf59900fb1ab49cda9df124bc3ff06c4",
            "max": 15,
            "min": 1,
            "orientation": "horizontal",
            "readout": true,
            "readout_format": "d",
            "step": 1,
            "style": "IPY_MODEL_d93c270a409c470d8743330f63da3987",
            "value": 15
          }
        },
        "1004de04b431414b87073fd2400e1263": {
          "model_module": "@jupyter-widgets/output",
          "model_name": "OutputModel",
          "model_module_version": "1.0.0",
          "state": {
            "_dom_classes": [],
            "_model_module": "@jupyter-widgets/output",
            "_model_module_version": "1.0.0",
            "_model_name": "OutputModel",
            "_view_count": null,
            "_view_module": "@jupyter-widgets/output",
            "_view_module_version": "1.0.0",
            "_view_name": "OutputView",
            "layout": "IPY_MODEL_dddefbe787d14bdb875f4595eb0035b6",
            "msg_id": "",
            "outputs": [
              {
                "output_type": "display_data",
                "data": {
                  "text/plain": "<Figure size 720x432 with 1 Axes>",
                  "image/png": "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\n"
                },
                "metadata": {
                  "needs_background": "light"
                }
              }
            ]
          }
        },
        "5eea5801211847a5853691cc093b35f2": {
          "model_module": "@jupyter-widgets/base",
          "model_name": "LayoutModel",
          "model_module_version": "1.2.0",
          "state": {
            "_model_module": "@jupyter-widgets/base",
            "_model_module_version": "1.2.0",
            "_model_name": "LayoutModel",
            "_view_count": null,
            "_view_module": "@jupyter-widgets/base",
            "_view_module_version": "1.2.0",
            "_view_name": "LayoutView",
            "align_content": null,
            "align_items": null,
            "align_self": null,
            "border": null,
            "bottom": null,
            "display": null,
            "flex": null,
            "flex_flow": null,
            "grid_area": null,
            "grid_auto_columns": null,
            "grid_auto_flow": null,
            "grid_auto_rows": null,
            "grid_column": null,
            "grid_gap": null,
            "grid_row": null,
            "grid_template_areas": null,
            "grid_template_columns": null,
            "grid_template_rows": null,
            "height": null,
            "justify_content": null,
            "justify_items": null,
            "left": null,
            "margin": null,
            "max_height": null,
            "max_width": null,
            "min_height": null,
            "min_width": null,
            "object_fit": null,
            "object_position": null,
            "order": null,
            "overflow": null,
            "overflow_x": null,
            "overflow_y": null,
            "padding": null,
            "right": null,
            "top": null,
            "visibility": null,
            "width": null
          }
        },
        "cf59900fb1ab49cda9df124bc3ff06c4": {
          "model_module": "@jupyter-widgets/base",
          "model_name": "LayoutModel",
          "model_module_version": "1.2.0",
          "state": {
            "_model_module": "@jupyter-widgets/base",
            "_model_module_version": "1.2.0",
            "_model_name": "LayoutModel",
            "_view_count": null,
            "_view_module": "@jupyter-widgets/base",
            "_view_module_version": "1.2.0",
            "_view_name": "LayoutView",
            "align_content": null,
            "align_items": null,
            "align_self": null,
            "border": null,
            "bottom": null,
            "display": null,
            "flex": null,
            "flex_flow": null,
            "grid_area": null,
            "grid_auto_columns": null,
            "grid_auto_flow": null,
            "grid_auto_rows": null,
            "grid_column": null,
            "grid_gap": null,
            "grid_row": null,
            "grid_template_areas": null,
            "grid_template_columns": null,
            "grid_template_rows": null,
            "height": null,
            "justify_content": null,
            "justify_items": null,
            "left": null,
            "margin": null,
            "max_height": null,
            "max_width": null,
            "min_height": null,
            "min_width": null,
            "object_fit": null,
            "object_position": null,
            "order": null,
            "overflow": null,
            "overflow_x": null,
            "overflow_y": null,
            "padding": null,
            "right": null,
            "top": null,
            "visibility": null,
            "width": null
          }
        },
        "d93c270a409c470d8743330f63da3987": {
          "model_module": "@jupyter-widgets/controls",
          "model_name": "SliderStyleModel",
          "model_module_version": "1.5.0",
          "state": {
            "_model_module": "@jupyter-widgets/controls",
            "_model_module_version": "1.5.0",
            "_model_name": "SliderStyleModel",
            "_view_count": null,
            "_view_module": "@jupyter-widgets/base",
            "_view_module_version": "1.2.0",
            "_view_name": "StyleView",
            "description_width": "",
            "handle_color": null
          }
        },
        "dddefbe787d14bdb875f4595eb0035b6": {
          "model_module": "@jupyter-widgets/base",
          "model_name": "LayoutModel",
          "model_module_version": "1.2.0",
          "state": {
            "_model_module": "@jupyter-widgets/base",
            "_model_module_version": "1.2.0",
            "_model_name": "LayoutModel",
            "_view_count": null,
            "_view_module": "@jupyter-widgets/base",
            "_view_module_version": "1.2.0",
            "_view_name": "LayoutView",
            "align_content": null,
            "align_items": null,
            "align_self": null,
            "border": null,
            "bottom": null,
            "display": null,
            "flex": null,
            "flex_flow": null,
            "grid_area": null,
            "grid_auto_columns": null,
            "grid_auto_flow": null,
            "grid_auto_rows": null,
            "grid_column": null,
            "grid_gap": null,
            "grid_row": null,
            "grid_template_areas": null,
            "grid_template_columns": null,
            "grid_template_rows": null,
            "height": null,
            "justify_content": null,
            "justify_items": null,
            "left": null,
            "margin": null,
            "max_height": null,
            "max_width": null,
            "min_height": null,
            "min_width": null,
            "object_fit": null,
            "object_position": null,
            "order": null,
            "overflow": null,
            "overflow_x": null,
            "overflow_y": null,
            "padding": null,
            "right": null,
            "top": null,
            "visibility": null,
            "width": null
          }
        },
        "8055c019a4284f3aa95d43111a8a5447": {
          "model_module": "@jupyter-widgets/controls",
          "model_name": "VBoxModel",
          "model_module_version": "1.5.0",
          "state": {
            "_dom_classes": [
              "widget-interact"
            ],
            "_model_module": "@jupyter-widgets/controls",
            "_model_module_version": "1.5.0",
            "_model_name": "VBoxModel",
            "_view_count": null,
            "_view_module": "@jupyter-widgets/controls",
            "_view_module_version": "1.5.0",
            "_view_name": "VBoxView",
            "box_style": "",
            "children": [
              "IPY_MODEL_43b1503d000e4aceb8358cbe913f0bec",
              "IPY_MODEL_851e9915e03740a6af1412f79a5b69cd"
            ],
            "layout": "IPY_MODEL_b0e567baaa8242e79b49f4af0a4c89af"
          }
        },
        "43b1503d000e4aceb8358cbe913f0bec": {
          "model_module": "@jupyter-widgets/controls",
          "model_name": "IntSliderModel",
          "model_module_version": "1.5.0",
          "state": {
            "_dom_classes": [],
            "_model_module": "@jupyter-widgets/controls",
            "_model_module_version": "1.5.0",
            "_model_name": "IntSliderModel",
            "_view_count": null,
            "_view_module": "@jupyter-widgets/controls",
            "_view_module_version": "1.5.0",
            "_view_name": "IntSliderView",
            "continuous_update": true,
            "description": "degree",
            "description_tooltip": null,
            "disabled": false,
            "layout": "IPY_MODEL_89595421877a4f51871448b17bd4e8b3",
            "max": 15,
            "min": 1,
            "orientation": "horizontal",
            "readout": true,
            "readout_format": "d",
            "step": 1,
            "style": "IPY_MODEL_fa079dc49c714bf897c8664a3b82df80",
            "value": 14
          }
        },
        "851e9915e03740a6af1412f79a5b69cd": {
          "model_module": "@jupyter-widgets/output",
          "model_name": "OutputModel",
          "model_module_version": "1.0.0",
          "state": {
            "_dom_classes": [],
            "_model_module": "@jupyter-widgets/output",
            "_model_module_version": "1.0.0",
            "_model_name": "OutputModel",
            "_view_count": null,
            "_view_module": "@jupyter-widgets/output",
            "_view_module_version": "1.0.0",
            "_view_name": "OutputView",
            "layout": "IPY_MODEL_b238e9eb988b4d22b94f90b3a4784479",
            "msg_id": "",
            "outputs": [
              {
                "output_type": "stream",
                "name": "stdout",
                "text": [
                  "weights without regularization\n",
                  "[    80.32244387     88.40215196  -1275.13665732  -1605.81712407\n",
                  "   8919.19928983   5904.00137751 -29875.61180674   -819.47728814\n",
                  "  50593.46386758 -24386.40492385 -41287.51457721  36399.54474267\n",
                  "  12878.35317224 -15534.00235786]\n",
                  "weights with regularization\n",
                  "[9.58676339 8.03342922 6.684622   8.13921092 5.23796523 7.019265\n",
                  " 4.11508964 6.14513381 3.22555589 5.57112052 2.52379454 5.19014283\n",
                  " 1.97128833 4.92342831]\n"
                ]
              },
              {
                "output_type": "display_data",
                "data": {
                  "text/plain": "<Figure size 720x432 with 1 Axes>",
                  "image/png": "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\n"
                },
                "metadata": {
                  "needs_background": "light"
                }
              }
            ]
          }
        },
        "b0e567baaa8242e79b49f4af0a4c89af": {
          "model_module": "@jupyter-widgets/base",
          "model_name": "LayoutModel",
          "model_module_version": "1.2.0",
          "state": {
            "_model_module": "@jupyter-widgets/base",
            "_model_module_version": "1.2.0",
            "_model_name": "LayoutModel",
            "_view_count": null,
            "_view_module": "@jupyter-widgets/base",
            "_view_module_version": "1.2.0",
            "_view_name": "LayoutView",
            "align_content": null,
            "align_items": null,
            "align_self": null,
            "border": null,
            "bottom": null,
            "display": null,
            "flex": null,
            "flex_flow": null,
            "grid_area": null,
            "grid_auto_columns": null,
            "grid_auto_flow": null,
            "grid_auto_rows": null,
            "grid_column": null,
            "grid_gap": null,
            "grid_row": null,
            "grid_template_areas": null,
            "grid_template_columns": null,
            "grid_template_rows": null,
            "height": null,
            "justify_content": null,
            "justify_items": null,
            "left": null,
            "margin": null,
            "max_height": null,
            "max_width": null,
            "min_height": null,
            "min_width": null,
            "object_fit": null,
            "object_position": null,
            "order": null,
            "overflow": null,
            "overflow_x": null,
            "overflow_y": null,
            "padding": null,
            "right": null,
            "top": null,
            "visibility": null,
            "width": null
          }
        },
        "89595421877a4f51871448b17bd4e8b3": {
          "model_module": "@jupyter-widgets/base",
          "model_name": "LayoutModel",
          "model_module_version": "1.2.0",
          "state": {
            "_model_module": "@jupyter-widgets/base",
            "_model_module_version": "1.2.0",
            "_model_name": "LayoutModel",
            "_view_count": null,
            "_view_module": "@jupyter-widgets/base",
            "_view_module_version": "1.2.0",
            "_view_name": "LayoutView",
            "align_content": null,
            "align_items": null,
            "align_self": null,
            "border": null,
            "bottom": null,
            "display": null,
            "flex": null,
            "flex_flow": null,
            "grid_area": null,
            "grid_auto_columns": null,
            "grid_auto_flow": null,
            "grid_auto_rows": null,
            "grid_column": null,
            "grid_gap": null,
            "grid_row": null,
            "grid_template_areas": null,
            "grid_template_columns": null,
            "grid_template_rows": null,
            "height": null,
            "justify_content": null,
            "justify_items": null,
            "left": null,
            "margin": null,
            "max_height": null,
            "max_width": null,
            "min_height": null,
            "min_width": null,
            "object_fit": null,
            "object_position": null,
            "order": null,
            "overflow": null,
            "overflow_x": null,
            "overflow_y": null,
            "padding": null,
            "right": null,
            "top": null,
            "visibility": null,
            "width": null
          }
        },
        "fa079dc49c714bf897c8664a3b82df80": {
          "model_module": "@jupyter-widgets/controls",
          "model_name": "SliderStyleModel",
          "model_module_version": "1.5.0",
          "state": {
            "_model_module": "@jupyter-widgets/controls",
            "_model_module_version": "1.5.0",
            "_model_name": "SliderStyleModel",
            "_view_count": null,
            "_view_module": "@jupyter-widgets/base",
            "_view_module_version": "1.2.0",
            "_view_name": "StyleView",
            "description_width": "",
            "handle_color": null
          }
        },
        "b238e9eb988b4d22b94f90b3a4784479": {
          "model_module": "@jupyter-widgets/base",
          "model_name": "LayoutModel",
          "model_module_version": "1.2.0",
          "state": {
            "_model_module": "@jupyter-widgets/base",
            "_model_module_version": "1.2.0",
            "_model_name": "LayoutModel",
            "_view_count": null,
            "_view_module": "@jupyter-widgets/base",
            "_view_module_version": "1.2.0",
            "_view_name": "LayoutView",
            "align_content": null,
            "align_items": null,
            "align_self": null,
            "border": null,
            "bottom": null,
            "display": null,
            "flex": null,
            "flex_flow": null,
            "grid_area": null,
            "grid_auto_columns": null,
            "grid_auto_flow": null,
            "grid_auto_rows": null,
            "grid_column": null,
            "grid_gap": null,
            "grid_row": null,
            "grid_template_areas": null,
            "grid_template_columns": null,
            "grid_template_rows": null,
            "height": null,
            "justify_content": null,
            "justify_items": null,
            "left": null,
            "margin": null,
            "max_height": null,
            "max_width": null,
            "min_height": null,
            "min_width": null,
            "object_fit": null,
            "object_position": null,
            "order": null,
            "overflow": null,
            "overflow_x": null,
            "overflow_y": null,
            "padding": null,
            "right": null,
            "top": null,
            "visibility": null,
            "width": null
          }
        }
      }
    }
  },
  "cells": [
    {
      "cell_type": "markdown",
      "metadata": {
        "id": "view-in-github",
        "colab_type": "text"
      },
      "source": [
        "<a href=\"https://colab.research.google.com/github/appletreeleaf/Study_Log/blob/ML/%5BHW13%5D_Polynomial_Regression_%26_Regularization_%EC%9D%B4%EC%9E%AC%EC%98%81.ipynb\" target=\"_parent\"><img src=\"https://colab.research.google.com/assets/colab-badge.svg\" alt=\"Open In Colab\"/></a>"
      ]
    },
    {
      "cell_type": "markdown",
      "metadata": {
        "id": "eo3NmmcT2jDL"
      },
      "source": [
        "# [HW13] Polynomial Regression & Regularization\n"
      ]
    },
    {
      "cell_type": "markdown",
      "metadata": {
        "id": "N2E2ENhc2uCF"
      },
      "source": [
        "지난번 시간까지는 linear 한 관계에 대해서 알아보았습니다. linear 한 관계란, 데이터를 가장 잘 설명해주는 **직선**을 찾는 것이었습니다. 하지만 우리의 데이터가 x,y 좌표에서 직선의 형태가 아닌 구부러진 형태로 되어있다면 linear 말고 다른 방법을 찾아야 할 것입니다.\n",
        "\n",
        "그래서 이번 시간에는 polynomial regression을 실습을 통해서 알아보도록 하겠습니다. 그리고 regularization을 통해서 어떻게 학습이 변화되는지 알아보겠습니다.\n",
        "\n",
        "이제부터 코드를 통해서 알아보도록 하겠습니다.\n"
      ]
    },
    {
      "cell_type": "markdown",
      "metadata": {
        "id": "1OjDjDZ36B60"
      },
      "source": [
        "## 1.1 A special case of multiple linear regression\n",
        "\n",
        "먼저 우리는 4차 polynomial function\n",
        "$$y = x^4 + x^3 - 4x^2$$\n",
        "을 이용해서 데이터를 생성해보도록 하겠습니다. 이전에 했던 것처럼 noise를 추가해서 생성하도록 하겠습니다."
      ]
    },
    {
      "cell_type": "code",
      "metadata": {
        "id": "3LG7n_eJ2bYq"
      },
      "source": [
        "from matplotlib import pyplot\n",
        "from autograd import grad\n",
        "from autograd import numpy"
      ],
      "execution_count": null,
      "outputs": []
    },
    {
      "cell_type": "code",
      "metadata": {
        "id": "cylgvplM6bb9",
        "colab": {
          "base_uri": "https://localhost:8080/",
          "height": 265
        },
        "outputId": "a23b20f5-5568-4ba1-c52c-5d4bfe05c8de"
      },
      "source": [
        "numpy.random.seed(0)    # fix seed for reproducibility\n",
        "x = numpy.linspace(-3, 3, 20)\n",
        "y = x**4 + x**3 - 4*x**2 + 8*numpy.random.normal(size=len(x)) # noise\n",
        "pyplot.scatter(x, y);"
      ],
      "execution_count": null,
      "outputs": [
        {
          "output_type": "display_data",
          "data": {
            "text/plain": [
              "<Figure size 432x288 with 1 Axes>"
            ],
            "image/png": "[encoded data removed]"
          },
          "metadata": {
            "needs_background": "light"
          }
        }
      ]
    },
    {
      "cell_type": "markdown",
      "metadata": {
        "id": "geSErpX9cfT7"
      },
      "source": [
        "우리가 생성한 데이터는 곡선의 형태이기 때문에 직선으로 표현하는데에는 무리가 있습니다.\n",
        "\n",
        "그래서 우리는 polynomial function을 사용해서 표현하도록 하겠습니다. 이제 먼저 $d$ 차 곡선을 정의해보겠습니다.\n",
        "\n",
        "$$\\hat{y} = w_0 + w_1x + w_2x^2 + ... + w_dx^d$$\n",
        "\n",
        "$w$는 우리가 찾아야 할 계수들입니다. 우리는 주어진 $x, y$를 가장 잘 설명해줄 수 있는 $w$를 찾는 것이 목적입니다.\n",
        "\n",
        "이제 우리는 위의 식을 조금 변형하여 linear regression 문제처럼 바꾸어 보겠습니다. $x_i = x^i$라고 정의를 하면 다음과 같이 나타낼 수 있습니다.\n",
        "\n",
        "$$\\hat{y} = w_0 + w_1x_1 + w_2x_2 + ... + w_dx_d$$\n",
        "\n",
        "이제 polynomial regression 문제가 multiple linear regression 문제와 동일해졌습니다. 이것도 또한 이전에 한 것처럼 행렬의 형태로 나타낼 수 있습니다.\n",
        "\n",
        "$$\\hat{\\mathbf{y}} = \\begin{bmatrix}\n",
        "\\hat{y}^{(1)}  \\\\\n",
        "\\hat{y}^{(2)}\\\\\n",
        "\\vdots  \\\\\n",
        "\\hat{y}^{(N)}\n",
        "\\end{bmatrix} =\n",
        "\\begin{bmatrix}\n",
        "x_0^{(1)} &  x_1^{(1)} & \\cdots & x_d^{(1)} \\\\\n",
        "x_0^{(2)} &  x_1^{(2)} & \\cdots & x_d^{(2)} \\\\\n",
        "\\vdots & \\vdots & \\ddots & \\vdots \\\\\n",
        "x_0^{(N)} &  x_1^{(N)} & \\cdots & x_d^{(N)}\n",
        "\\end{bmatrix} \\begin{bmatrix}\n",
        "w_0  \\\\\n",
        "w_1\\\\\n",
        "\\vdots  \\\\\n",
        "w_d\n",
        "\\end{bmatrix}\n",
        "= \\mathbf{X}\\mathbf{w}$$\n",
        "\n",
        "이번 실습에서 3차항까지 고려해서 실습을 진행하도록 하겠습니다.\n",
        "\n",
        "코드로 살펴보겠습니다."
      ]
    },
    {
      "cell_type": "code",
      "metadata": {
        "colab": {
          "base_uri": "https://localhost:8080/"
        },
        "id": "3H7qXunjegNC",
        "outputId": "45b77a6e-fe0d-4091-ef2a-d8c96b0a2000"
      },
      "source": [
        "degree = 3\n",
        "\n",
        "def polynomial_features(x, degree):\n",
        "    \"\"\" Generate polynomial features for x.\"\"\"\n",
        "\n",
        "    X = numpy.empty((len(x), degree+1)) # matrix X (절편을 위한 1 포함)\n",
        "    for i in range(degree+1):\n",
        "        X[:,i] = x**i  #x^1, x^2, x^3, x^4\n",
        "    return X\n",
        "\n",
        "X = polynomial_features(x, degree)\n",
        "print(X.shape)"
      ],
      "execution_count": null,
      "outputs": [
        {
          "output_type": "stream",
          "name": "stdout",
          "text": [
            "(20, 4)\n"
          ]
        }
      ]
    },
    {
      "cell_type": "markdown",
      "metadata": {
        "id": "EUm-FjbQestC"
      },
      "source": [
        "## 1.2 Scale the data, train the model\n",
        "\n",
        "이제 기존에 했던 것처럼 입력 변수들을 정규화 시켜주고, 학습을 진행해보도록 하겠습니다. 이번에는 scikit-learn 패키지 안에 있는 min max sclaer 를 사용하겠습니다."
      ]
    },
    {
      "cell_type": "code",
      "metadata": {
        "id": "1Nf9W19z6cmQ"
      },
      "source": [
        "from sklearn.preprocessing import MinMaxScaler\n",
        "\n",
        "min_max_scaler = MinMaxScaler()\n",
        "X_scaled = min_max_scaler.fit_transform(X)\n",
        "X_scaled[:,0] = 1   # the column for intercept"
      ],
      "execution_count": null,
      "outputs": []
    },
    {
      "cell_type": "markdown",
      "metadata": {
        "id": "qcYIUoYufYvw"
      },
      "source": [
        "이제 [HW12]에서 했던대로 학습을 진행해보겠습니다."
      ]
    },
    {
      "cell_type": "code",
      "metadata": {
        "id": "W0_-onCse969"
      },
      "source": [
        "def linear_regression(params, X):\n",
        "    '''\n",
        "    The linear regression model in matrix form.\n",
        "    Arguments:\n",
        "      params: 1D array of weights for the linear model\n",
        "      X     : 2D array of input values\n",
        "    Returns:\n",
        "      1D array of predicted values\n",
        "    '''\n",
        "    return numpy.dot(X, params) # return y_hat array\n",
        "\n",
        "def mse_loss(params, model, X, y):\n",
        "    '''\n",
        "    The mean squared error loss function.\n",
        "    Arguments:\n",
        "      params: 1D array of weights for the linear model\n",
        "      model : function for the linear regression model\n",
        "      X     : 2D array of input values\n",
        "      y     : 1D array of predicted values\n",
        "    Returns:\n",
        "      float, mean squared error\n",
        "    '''\n",
        "    y_pred = model(params, X) # 가중치 벡터와 X 행렬연산 결과 즉 y_hat\n",
        "    return numpy.mean( numpy.sum((y-y_pred)**2) ) # mean squared error\n",
        "\n",
        "gradient = grad(mse_loss)"
      ],
      "execution_count": null,
      "outputs": []
    },
    {
      "cell_type": "code",
      "metadata": {
        "colab": {
          "base_uri": "https://localhost:8080/"
        },
        "id": "6yEoOXrlfgKp",
        "outputId": "4d34cc09-90a2-4eba-c922-cb02cd6d9caa"
      },
      "source": [
        "max_iter = 3000 # 반복횟수\n",
        "alpha = 0.01  # learning rate\n",
        "params = numpy.zeros(X_scaled.shape[1]) #[0,0,0,0]\n",
        "descent = numpy.ones(X_scaled.shape[1]) #[[1,1,1,1],[1,1,1,1].....[1,1,1,1]] 20 by 4\n",
        "i = 0\n",
        "\n",
        "from sklearn.metrics import mean_absolute_error\n",
        "\n",
        "while numpy.linalg.norm(descent) > 0.01 and i < max_iter: #\n",
        "    descent = gradient(params, linear_regression, X_scaled, y)\n",
        "    params = params - descent * alpha # Gradient Descent\n",
        "    loss = mse_loss(params, linear_regression, X_scaled, y)\n",
        "    mae = mean_absolute_error(y, X_scaled@params)\n",
        "    if i%100 == 0:\n",
        "        print(\"iteration {}, loss = {}, mae = {}, descent = {}\".format(i, loss, mae, descent))\n",
        "    i += 1"
      ],
      "execution_count": null,
      "outputs": [
        {
          "output_type": "stream",
          "name": "stdout",
          "text": [
            "iteration 0, loss = 5434.767518111348, mae = 11.05718775676392, descent = [-440.61657842 -318.28269089 -340.6219872  -294.08485328]\n",
            "iteration 100, loss = 1300.4768479787672, mae = 6.885099348931476, descent = [ 4.50740415 -0.80308025 -4.05150992 -4.63308682]\n",
            "iteration 200, loss = 1281.308959359777, mae = 6.8639053389713665, descent = [ 0.58771205  1.65158974 -0.17306376 -2.66766759]\n",
            "iteration 300, loss = 1272.9896965024661, mae = 6.807943451695349, descent = [ 0.33560885  1.46466886 -0.01329299 -2.12152744]\n",
            "iteration 400, loss = 1267.4477500708404, mae = 6.760476747247461, descent = [ 0.26750785  1.20182352 -0.0051277  -1.73032021]\n",
            "iteration 500, loss = 1263.7497451381248, mae = 6.721622404779564, descent = [ 0.21821512  0.98198239 -0.00392735 -1.41332528]\n",
            "iteration 600, loss = 1261.282144135704, mae = 6.689879731162117, descent = [ 0.17823976  0.80216472 -0.00319618 -1.15449943]\n",
            "iteration 700, loss = 1259.6355657998567, mae = 6.663949878547802, descent = [ 0.14559834  0.655266   -0.00261032 -0.94307739]\n",
            "iteration 800, loss = 1258.5368386500606, mae = 6.642768513961068, descent = [ 0.1189351   0.53526812 -0.00213227 -0.770373  ]\n",
            "iteration 900, loss = 1257.8036810933152, mae = 6.625466061127554, descent = [ 0.09715469  0.43724526 -0.00174179 -0.62929573]\n",
            "iteration 1000, loss = 1257.314460450035, mae = 6.611332180986304, descent = [ 0.07936289  0.35717318 -0.00142282 -0.51405373]\n",
            "iteration 1100, loss = 1256.9880137870919, mae = 6.5997866175015245, descent = [ 0.06482928  0.29176458 -0.00116226 -0.41991582]\n",
            "iteration 1200, loss = 1256.7701827834117, mae = 6.5903553760560865, descent = [ 0.05295719  0.23833416 -0.00094942 -0.34301726]\n",
            "iteration 1300, loss = 1256.6248287285202, mae = 6.582651263968432, descent = [ 0.04325922  0.19468838 -0.00077555 -0.28020101]\n",
            "iteration 1400, loss = 1256.5278370197357, mae = 6.576357994582585, descent = [ 0.03533722  0.15903538 -0.00063353 -0.22888821]\n",
            "iteration 1500, loss = 1256.4631164890282, mae = 6.571217202352118, descent = [ 0.02886597  0.12991147 -0.00051751 -0.18697225]\n",
            "iteration 1600, loss = 1256.4199298378444, mae = 6.567017835832665, descent = [ 0.02357979  0.10612097 -0.00042274 -0.1527323 ]\n",
            "iteration 1700, loss = 1256.391112292313, mae = 6.563587493120082, descent = [ 0.01926165  0.08668719 -0.00034532 -0.12476266]\n",
            "iteration 1800, loss = 1256.3718829492707, mae = 6.5607853440170505, descent = [ 0.0157343   0.0708123  -0.00028208 -0.10191506]\n",
            "iteration 1900, loss = 1256.3590516124232, mae = 6.558496348352909, descent = [ 0.0128529   0.05784454 -0.00023043 -0.0832515 ]\n",
            "iteration 2000, loss = 1256.3504895307688, mae = 6.5566265330940485, descent = [ 0.01049917  0.04725156 -0.00018823 -0.06800578]\n",
            "iteration 2100, loss = 1256.3447762334608, mae = 6.555099134350118, descent = [ 0.00857647  0.03859845 -0.00015376 -0.05555198]\n",
            "iteration 2200, loss = 1256.3409638701312, mae = 6.553851445888969, descent = [ 0.00700587  0.03152997 -0.0001256  -0.04537883]\n",
            "iteration 2300, loss = 1256.338419960131, mae = 6.552832244778408, descent = [ 0.0057229   0.02575594 -0.0001026  -0.03706867]\n",
            "iteration 2400, loss = 1256.336722462403, mae = 6.551999688466384, descent = [ 4.67487181e-03  2.10392888e-02 -8.38112484e-05 -3.02803385e-02]\n",
            "iteration 2500, loss = 1256.3355897578117, mae = 6.551319596965787, descent = [ 3.81876942e-03  1.71863948e-02 -6.84630179e-05 -2.47351447e-02]\n",
            "iteration 2600, loss = 1256.334833927822, mae = 6.550764049620217, descent = [ 3.11944380e-03  1.40390757e-02 -5.59254862e-05 -2.02054341e-02]\n",
            "iteration 2700, loss = 1256.33432957834, mae = 6.550310238841959, descent = [ 2.54818465e-03  1.14681204e-02 -4.56839342e-05 -1.65052427e-02]\n",
            "iteration 2800, loss = 1256.333993036521, mae = 6.549939533763262, descent = [ 2.08153935e-03  9.36798041e-03 -3.73179027e-05 -1.34826619e-02]\n",
            "iteration 2900, loss = 1256.3337684692315, mae = 6.549636715359735, descent = [ 1.70035011e-03  7.65243595e-03 -3.04839301e-05 -1.10136019e-02]\n"
          ]
        }
      ]
    },
    {
      "cell_type": "markdown",
      "metadata": {
        "id": "U1G2P359f1Z5"
      },
      "source": [
        "이제 학습된 parameter들을 보겠습니다."
      ]
    },
    {
      "cell_type": "code",
      "metadata": {
        "colab": {
          "base_uri": "https://localhost:8080/"
        },
        "id": "Agol8H8zf6G1",
        "outputId": "94575d4a-8d79-4186-c6c2-a455c1e0625a"
      },
      "source": [
        "params #loss를 최소화시키는 가중치들"
      ],
      "execution_count": null,
      "outputs": [
        {
          "output_type": "execute_result",
          "data": {
            "text/plain": [
              "array([-22.51572398,   6.75930601,  41.30788709,  30.0105898 ])"
            ]
          },
          "metadata": {},
          "execution_count": 7
        }
      ]
    },
    {
      "cell_type": "markdown",
      "metadata": {
        "id": "rqNzZggih23T"
      },
      "source": [
        "원래 데이터와 함께 그래프로 표현해서 보겠습니다."
      ]
    },
    {
      "cell_type": "code",
      "metadata": {
        "colab": {
          "base_uri": "https://localhost:8080/",
          "height": 265
        },
        "id": "TSmBiJa5h000",
        "outputId": "7f7d905e-029b-493c-ed9b-5b9db8e65dd6"
      },
      "source": [
        "xgrid = numpy.linspace(x.min(), x.max(), 7)\n",
        "Xgrid_poly_feat = polynomial_features(xgrid, degree)\n",
        "Xgrid_scaled = min_max_scaler.transform(Xgrid_poly_feat)\n",
        "Xgrid_scaled[:,0] = 1\n",
        "pyplot.scatter(x, y, c='r', label='true')\n",
        "pyplot.plot(xgrid, Xgrid_scaled@params, label='predicted')\n",
        "pyplot.legend();"
      ],
      "execution_count": null,
      "outputs": [
        {
          "output_type": "display_data",
          "data": {
            "text/plain": [
              "<Figure size 432x288 with 1 Axes>"
            ],
            "image/png": "[encoded data removed]"
          },
          "metadata": {
            "needs_background": "light"
          }
        }
      ]
    },
    {
      "cell_type": "markdown",
      "metadata": {
        "id": "mqUDBTThh8mD"
      },
      "source": [
        "## 1.3 Observe underfitting & overfitting\n",
        "\n",
        "우리는 위에서 모델을 만들 때 3차항으로 설정을 한 뒤 학습을 진행하였습니다. 과연 3차항으로 설정한 것이 좋은 선택이었을까요?\n",
        "\n",
        "지금부터 우리는 1부터 15까지 다양한 차수를 가지고 학습을 하면서 변화를 지켜보겠습니다. 우리는 ipywidget 패키지를 통해서 어떻게 변화하는지 보겠습니다."
      ]
    },
    {
      "cell_type": "code",
      "metadata": {
        "colab": {
          "base_uri": "https://localhost:8080/"
        },
        "id": "g08ELwo_heCp",
        "outputId": "ffbe7bb2-ffb0-4d39-c5d0-24ab0d37407a"
      },
      "source": [
        "from urllib.request import urlretrieve\n",
        "URL = 'https://raw.githubusercontent.com/engineersCode/EngComp6_deeplearning/master/scripts/plot_helpers.py'\n",
        "urlretrieve(URL, 'plot_helpers.py')"
      ],
      "execution_count": null,
      "outputs": [
        {
          "output_type": "execute_result",
          "data": {
            "text/plain": [
              "('plot_helpers.py', <http.client.HTTPMessage at 0x7f9ab36d64f0>)"
            ]
          },
          "metadata": {},
          "execution_count": 12
        }
      ]
    },
    {
      "cell_type": "code",
      "metadata": {
        "colab": {
          "base_uri": "https://localhost:8080/",
          "height": 424,
          "referenced_widgets": [
            "b3ea097574604c72906ea4414203c07b",
            "42e968513a334e4599d003c48b7a657a",
            "1004de04b431414b87073fd2400e1263",
            "5eea5801211847a5853691cc093b35f2",
            "cf59900fb1ab49cda9df124bc3ff06c4",
            "d93c270a409c470d8743330f63da3987",
            "dddefbe787d14bdb875f4595eb0035b6"
          ]
        },
        "id": "OsXlV5D_h5k1",
        "outputId": "255bf150-f476-4c3d-99e9-5a13d2eb7c7b"
      },
      "source": [
        "from plot_helpers import interact_polyreg\n",
        "\n",
        "max_degree = 15\n",
        "interact_polyreg(max_degree, x, y)"
      ],
      "execution_count": null,
      "outputs": [
        {
          "output_type": "display_data",
          "data": {
            "text/plain": [
              "interactive(children=(IntSlider(value=8, description='degree', max=15, min=1), Output()), _dom_classes=('widge…"
            ],
            "application/vnd.jupyter.widget-view+json": {
              "version_major": 2,
              "version_minor": 0,
              "model_id": "b3ea097574604c72906ea4414203c07b"
            }
          },
          "metadata": {}
        }
      ]
    },
    {
      "cell_type": "markdown",
      "metadata": {
        "id": "WuO32RbwsoKT"
      },
      "source": [
        "### 1.3.1 Underfitting\n",
        "\n",
        "위 셀에서 degree를 1로 설정을 하면 우리의 데이터와 가장 잘 맞는 직선을 찾아줍니다.\n",
        "\n",
        "직선은 너무 간단해서 데이터가 흩뿌려져 있을 때는 그 데이터를 잘 설명하지 못합니다.\n",
        "\n",
        "이것을 **underfitting** 되었다고 합니다. Underfitting 에서는 우리의 예측 값이 **high bias, low variance**의 성질을 가지게 됩니다.\n",
        "\n",
        "Bias, variance 의 개념을 이해하기 쉽게 예시를 들어서 설명해보겠습니다.\n",
        "\n"
      ]
    },
    {
      "cell_type": "markdown",
      "metadata": {
        "id": "03ZdMJbjYORD"
      },
      "source": [
        "<img src=\"https://lh3.googleusercontent.com/rq_iMVSuIK1K4ykF9RQnF05hH6xxWm3lmNPWuQ3hfK9r4-3GBIuCxCW3L7QH53M3EIwbVWOcaRiRLDc0AIJ-0uq8-qzavpSWPceQ1lchq-ZPF16l3KLst24-x6MbGYFqQbEJmEI3gEc\n",
        "\" width=\"500\" height=\"400\" />"
      ]
    },
    {
      "cell_type": "markdown",
      "metadata": {
        "id": "dHWxwR9LYPNW"
      },
      "source": [
        "Underfitting 되었다면 low variance, high bias이기 때문에 저 위의 4개의 과녁에서 왼쪽 아래의 과녁에 해당됩니다.\n",
        "\n",
        "예측값들이 한군데에 몰려있어서 low variance이지만, 정답에서 멀기 때문에 high bias 인 것입니다.\n",
        "\n",
        "우리가 모델을 낮은 차수로 설정했다면, 그것은 직선에 가까워지고, 그렇다면 예측 값들은 직선의 근처에서만 나오기 때문에 low variance입니다. 그리고 직선은 흩뿌려진 데이터를 정확히 예측할 수 없기 때문에 정답에서 멀게 되고, high bias가 되는 것입니다.\n"
      ]
    },
    {
      "cell_type": "markdown",
      "metadata": {
        "id": "o3IQr0UuZoy9"
      },
      "source": [
        "### 1.3.2 Overfitting\n",
        "\n",
        "이제 degree를 높게 설정해 보겠습니다. Training error인 MAE 값이 점점 감소합니다. 그러면 degree가 제일 큰 15가 MAE값이 가장 작으니까 제일 잘 맞는 모델일까요? 아닙니다!!\n",
        "\n",
        "오른쪽으로 degree를 움직일수록 우리의 모델이 곡선을 이루면서 모든 training point를 지나게 됩니다. 하지만 이제 새로운 데이터가 들어오게 된다면 어떻게 될까요? Training data를 모두 커버하려고 매우 복잡하기 때문에 새로운 데이터를 잘 못 맞추게 됩니다. 예를 들어 위에서 degree 15 일 때 맨 오른 쪽 두 점 가운데로 새로운 데이터가 들어온다면, 기존의 데이터들과 매우 비슷한 데이터이지만 우리의 모델은 매우 큰 값을 예측하게 되어 큰 오류 값을 가지게 됩니다.\n",
        "\n",
        "이것을 우리는 **overfitting**이라고 부르고, **high variance, low bias**이기 때문에 위 과녁 그림 예시에서 오른쪽 위에 해당하게 됩니다.\n",
        "\n",
        "Overfitting 은 training 과정에서는 작은 에러를 가지기에 찾아내기가 힘듭니다. 이제부터는 regularization을 통해서 overfitting을 막는 방법을 알아보겠습니다.\n",
        "\n"
      ]
    },
    {
      "cell_type": "markdown",
      "metadata": {
        "id": "LJLefLyslszc"
      },
      "source": [
        "## 1.4 Regularization\n",
        "\n",
        "Regularization은 overfitting 을 막는 방법입니다. Cost function에서 새로운 식을 추가해서 복잡한 모델이 되는 것을 막아주게 됩니다. 먼저 우리의 기존 모델은 다음과 같습니다.\n",
        "\n",
        "$$\\hat{y} = w_0 + w_1x + w_2x^2 + ... + w_dx^d$$\n",
        "\n",
        "차수를 가진 항들이 모델을 복잡하게 만듭니다. 그래서 그들의 계수값에 제한 조건을 추가합니다.\n",
        "\n",
        "보편적인 방법은 regularization term 인 $\\lambda\\sum_{j=1}^dw_j^2$를 추가하는 것 입니다. Mean-squared error를 사용한 cost function에 추가하면 다음과 같습니다.\n",
        "\n",
        "$$L(\\mathbf{w}) = \\frac{1}{N} \\lVert \\mathbf{y} - \\mathbf{Xw} \\rVert^2 + \\lambda \\sum_{j=1}^d w_j^2$$\n",
        "\n",
        "새롭게 만든 cost function은 계수들이 작은 값이 되는 것을 선호하게 됩니다. 왜냐하면 계수들이 커지게 되면 두번째 항이 커지게 돼서 cost 값이 늘어나게 되기 때문입니다.\n",
        "\n",
        "위 식에서 $\\lambda$는 regularization parameter 입니다. 우리가 얼마나 큰 제약을 줄 것인가를 결정하게 됩니다. $\\lambda$가 큰 값을 가질수록 계수들을 더 작게 할 수 있습니다.\n",
        "\n",
        "이번 실습에서는 $\\lambda$값을 1로 설정하겠습니다.\n"
      ]
    },
    {
      "cell_type": "code",
      "metadata": {
        "id": "CMkyX5hxqUZn"
      },
      "source": [
        "def regularized_loss(params, model, X, y, _lambda=1.0):\n",
        "    '''\n",
        "    The mean squared error loss function with an L2 penalty.\n",
        "    Arguments:\n",
        "      params: 1D array of weights for the linear model / 가중치 벡터\n",
        "      model : function for the linear regression model / 모형 선택\n",
        "      X     : 2D array of input values / features\n",
        "      y     : 1D array of predicted values / target\n",
        "      _lambda: regularization parameter, default 1.0 / regularization\n",
        "    Returns:\n",
        "      float, regularized mean squared error\n",
        "    '''\n",
        "    y_pred = model(params, X)\n",
        "    return numpy.mean( numpy.sum((y-y_pred)**2) ) + _lambda * numpy.sum( params[1:]**2 )\n",
        "\n",
        "gradient = grad(regularized_loss)"
      ],
      "execution_count": null,
      "outputs": []
    },
    {
      "cell_type": "code",
      "metadata": {
        "id": "-Gv01HFPovXP"
      },
      "source": [
        "no_regularization_params = params.copy()"
      ],
      "execution_count": null,
      "outputs": []
    },
    {
      "cell_type": "code",
      "metadata": {
        "colab": {
          "base_uri": "https://localhost:8080/"
        },
        "id": "ZFCFimSvowt-",
        "outputId": "e3dc38a5-7efe-4ca2-bd60-0fe251b2db7c"
      },
      "source": [
        "max_iter = 3000\n",
        "alpha = 0.01\n",
        "params = numpy.zeros(X_scaled.shape[1])\n",
        "descent = numpy.ones(X_scaled.shape[1])\n",
        "i = 0\n",
        "\n",
        "from sklearn.metrics import mean_absolute_error\n",
        "\n",
        "while numpy.linalg.norm(descent) > 0.01 and i < max_iter:\n",
        "    descent = gradient(params, linear_regression, X_scaled, y)\n",
        "    params = params - descent * alpha\n",
        "    loss = mse_loss(params, linear_regression, X_scaled, y)\n",
        "    mae = mean_absolute_error(y, X_scaled@params)\n",
        "    if i%100 == 0:\n",
        "        print(\"iteration {}, loss = {}, mae = {}\".format(i, loss, mae))\n",
        "    i += 1"
      ],
      "execution_count": null,
      "outputs": [
        {
          "output_type": "stream",
          "name": "stdout",
          "text": [
            "iteration 0, loss = 5434.767518111348, mae = 11.05718775676392\n",
            "iteration 100, loss = 1785.9852202374184, mae = 6.983886996350374\n",
            "iteration 200, loss = 1764.2597057711018, mae = 6.966518785947395\n",
            "iteration 300, loss = 1763.5702631188328, mae = 6.965728405272657\n"
          ]
        }
      ]
    },
    {
      "cell_type": "code",
      "source": [
        "zeros = numpy.array([[1, 0, 0, 0]])"
      ],
      "metadata": {
        "id": "GXNaSUTFWiqg"
      },
      "execution_count": null,
      "outputs": []
    },
    {
      "cell_type": "code",
      "source": [
        "params.shape"
      ],
      "metadata": {
        "colab": {
          "base_uri": "https://localhost:8080/"
        },
        "id": "YRr6kB0WWq-Q",
        "outputId": "fe869a19-027e-47c2-fb95-351534cff379"
      },
      "execution_count": null,
      "outputs": [
        {
          "output_type": "execute_result",
          "data": {
            "text/plain": [
              "(4,)"
            ]
          },
          "metadata": {},
          "execution_count": 18
        }
      ]
    },
    {
      "cell_type": "markdown",
      "metadata": {
        "id": "y6NzRXSSo7Ge"
      },
      "source": [
        "이제 regularization을 추가한 것과 추가하지 않은 것을 비교해보겠습니다."
      ]
    },
    {
      "cell_type": "code",
      "metadata": {
        "colab": {
          "base_uri": "https://localhost:8080/",
          "height": 334
        },
        "id": "ztnU2EBlozzv",
        "outputId": "2c4b578c-6e0d-4335-cc19-41473ffc9440"
      },
      "source": [
        "print(\"weights without regularization\")\n",
        "print(no_regularization_params)\n",
        "print(\"weights with regularization\")\n",
        "print(params)\n",
        "\n",
        "pyplot.scatter(x, y, c='r', label='true')\n",
        "pyplot.plot(xgrid, Xgrid_scaled@no_regularization_params, label='w/o regularization')\n",
        "pyplot.plot(xgrid, Xgrid_scaled@params, label='with regularization')\n",
        "pyplot.legend();"
      ],
      "execution_count": null,
      "outputs": [
        {
          "output_type": "stream",
          "name": "stdout",
          "text": [
            "weights without regularization\n",
            "[-22.51572398   6.75930601  41.30788709  30.0105898 ]\n",
            "weights with regularization\n",
            "[-11.13750882  12.48522096  28.26626633  11.09211867]\n"
          ]
        },
        {
          "output_type": "display_data",
          "data": {
            "text/plain": [
              "<Figure size 432x288 with 1 Axes>"
            ],
            "image/png": "[encoded data removed]"
          },
          "metadata": {
            "needs_background": "light"
          }
        }
      ]
    },
    {
      "cell_type": "markdown",
      "metadata": {
        "id": "XzCNZCl3pLOT"
      },
      "source": [
        "더 다양한 차수에서 regularization을 비교해 보겠습니다."
      ]
    },
    {
      "cell_type": "code",
      "metadata": {
        "colab": {
          "base_uri": "https://localhost:8080/",
          "height": 580,
          "referenced_widgets": [
            "8055c019a4284f3aa95d43111a8a5447",
            "43b1503d000e4aceb8358cbe913f0bec",
            "851e9915e03740a6af1412f79a5b69cd",
            "b0e567baaa8242e79b49f4af0a4c89af",
            "89595421877a4f51871448b17bd4e8b3",
            "fa079dc49c714bf897c8664a3b82df80",
            "b238e9eb988b4d22b94f90b3a4784479"
          ]
        },
        "id": "s9k59geepBQY",
        "outputId": "df45cba6-d161-4c0b-e754-371c4c375b37"
      },
      "source": [
        "interact_polyreg(max_degree, x, y, regularized=True)"
      ],
      "execution_count": null,
      "outputs": [
        {
          "output_type": "display_data",
          "data": {
            "text/plain": [
              "interactive(children=(IntSlider(value=8, description='degree', max=15, min=1), Output()), _dom_classes=('widge…"
            ],
            "application/vnd.jupyter.widget-view+json": {
              "version_major": 2,
              "version_minor": 0,
              "model_id": "8055c019a4284f3aa95d43111a8a5447"
            }
          },
          "metadata": {}
        }
      ]
    },
    {
      "cell_type": "markdown",
      "metadata": {
        "id": "_IsqGuOVpTTJ"
      },
      "source": [
        "Degree가 커질수록 regularization의 중요성이 들어나게 됩니다. 이제 높은 차수에서 예측 모델이 이리저리 움직이는 모습이 아닌 부드럽게 학습 데이터들을 지나가는 모습을 볼 수 잇습니다. 이렇게 된다면 새롭게 들어오는 데이터도 잘 예측할 수 있게 될 것입니다.\n",
        "직관적으로 말하면, 구불구불한 그래프를 부드러운 곡선 형태로 바꿔줍니다. 따라서 overfitting을 방지할 수 있겠군요."
      ]
    },
    {
      "cell_type": "markdown",
      "metadata": {
        "id": "qGEjDrhaqHnF"
      },
      "source": [
        "이번 시간에는 polynomial regression과 regularization에 대해서 알아보았습니다. 다음시간에는 실제 데이터에서의 multiple logistic regression을 알아보고, regularization을 추가해보는 실습을 진행해보도록 하겠습니다."
      ]
    },
    {
      "cell_type": "code",
      "metadata": {
        "id": "2v_XfAJaqGPM"
      },
      "source": [],
      "execution_count": null,
      "outputs": []
    }
  ]
}